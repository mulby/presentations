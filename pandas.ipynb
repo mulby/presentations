{
 "metadata": {
  "celltoolbar": "Slideshow",
  "name": "",
  "signature": "sha256:76ac4a90bdf035c8d6cd6a2540e77e0a2d50703c39eafa1ce575c194abe244b4"
 },
 "nbformat": 3,
 "nbformat_minor": 0,
 "worksheets": [
  {
   "cells": [
    {
     "cell_type": "markdown",
     "metadata": {
      "slideshow": {
       "slide_type": "slide"
      }
     },
     "source": [
      "# pandas #\n",
      "\n",
      "#### crunching data like bamboo since 2008 ####\n",
      "\n",
      "<img src='panda.jpg' />\n",
      "\n",
      "Image is Creative Comments Attribution licensed. The original image can be found on [flickr](https://flic.kr/p/6Dg6fE).\n"
     ]
    },
    {
     "cell_type": "code",
     "collapsed": false,
     "input": [
      "import pandas\n",
      "%matplotlib inline"
     ],
     "language": "python",
     "metadata": {},
     "outputs": [],
     "prompt_number": 13
    },
    {
     "cell_type": "markdown",
     "metadata": {
      "slideshow": {
       "slide_type": "slide"
      }
     },
     "source": [
      "## The DataFrame ##\n",
      "\n",
      "* In-memory data table\n",
      "  * Filter\n",
      "  * Join\n",
      "  * Group\n",
      "  * Aggregate\n",
      "  * Sort\n",
      "  * Index\n",
      "  * Plot"
     ]
    },
    {
     "cell_type": "markdown",
     "metadata": {
      "slideshow": {
       "slide_type": "fragment"
      }
     },
     "source": [
      "They can be easily created from flat text files like CSVs"
     ]
    },
    {
     "cell_type": "code",
     "collapsed": false,
     "input": [
      "sce = pandas.read_csv(\n",
      "    'fake_student_courseenrollment.csv',\n",
      "    header=None,\n",
      "    names=['id', 'user_id', 'course_id', 'created', 'is_active', 'mode'],\n",
      "    parse_dates=['created']\n",
      ")"
     ],
     "language": "python",
     "metadata": {
      "slideshow": {
       "slide_type": "fragment"
      }
     },
     "outputs": [],
     "prompt_number": 14
    },
    {
     "cell_type": "markdown",
     "metadata": {
      "slideshow": {
       "slide_type": "subslide"
      }
     },
     "source": [
      "Cool, what does this DataFrame look like?"
     ]
    },
    {
     "cell_type": "code",
     "collapsed": false,
     "input": [
      "sce.info()"
     ],
     "language": "python",
     "metadata": {
      "slideshow": {
       "slide_type": "fragment"
      }
     },
     "outputs": [
      {
       "output_type": "stream",
       "stream": "stdout",
       "text": [
        "<class 'pandas.core.frame.DataFrame'>\n",
        "Int64Index: 5 entries, 0 to 4\n",
        "Data columns (total 6 columns):\n",
        "id           5 non-null int64\n",
        "user_id      5 non-null int64\n",
        "course_id    5 non-null object\n",
        "created      5 non-null datetime64[ns]\n",
        "is_active    5 non-null int64\n",
        "mode         5 non-null object\n",
        "dtypes: datetime64[ns](1), int64(3), object(2)"
       ]
      }
     ],
     "prompt_number": 15
    },
    {
     "cell_type": "code",
     "collapsed": false,
     "input": [
      "sce.head()"
     ],
     "language": "python",
     "metadata": {
      "slideshow": {
       "slide_type": "fragment"
      }
     },
     "outputs": [
      {
       "html": [
        "<div style=\"max-height:1000px;max-width:1500px;overflow:auto;\">\n",
        "<table border=\"1\" class=\"dataframe\">\n",
        "  <thead>\n",
        "    <tr style=\"text-align: right;\">\n",
        "      <th></th>\n",
        "      <th>id</th>\n",
        "      <th>user_id</th>\n",
        "      <th>course_id</th>\n",
        "      <th>created</th>\n",
        "      <th>is_active</th>\n",
        "      <th>mode</th>\n",
        "    </tr>\n",
        "  </thead>\n",
        "  <tbody>\n",
        "    <tr>\n",
        "      <th>0</th>\n",
        "      <td> 0</td>\n",
        "      <td> 1</td>\n",
        "      <td>       ValleyOfPeace/KungFu101/First</td>\n",
        "      <td>2013-03-01 09:22:11</td>\n",
        "      <td> 1</td>\n",
        "      <td> honor</td>\n",
        "    </tr>\n",
        "    <tr>\n",
        "      <th>1</th>\n",
        "      <td> 0</td>\n",
        "      <td> 2</td>\n",
        "      <td>       ValleyOfPeace/KungFu101/First</td>\n",
        "      <td>2013-03-01 09:25:52</td>\n",
        "      <td> 0</td>\n",
        "      <td> honor</td>\n",
        "    </tr>\n",
        "    <tr>\n",
        "      <th>2</th>\n",
        "      <td> 0</td>\n",
        "      <td> 3</td>\n",
        "      <td>       ValleyOfPeace/KungFu101/First</td>\n",
        "      <td>2013-03-05 08:15:52</td>\n",
        "      <td> 1</td>\n",
        "      <td> honor</td>\n",
        "    </tr>\n",
        "    <tr>\n",
        "      <th>3</th>\n",
        "      <td> 0</td>\n",
        "      <td> 1</td>\n",
        "      <td> ValleyOfPeace/AdvancedKungFu/Second</td>\n",
        "      <td>2013-03-05 03:10:02</td>\n",
        "      <td> 1</td>\n",
        "      <td> honor</td>\n",
        "    </tr>\n",
        "    <tr>\n",
        "      <th>4</th>\n",
        "      <td> 0</td>\n",
        "      <td> 4</td>\n",
        "      <td>       ValleyOfPeace/KungFu101/First</td>\n",
        "      <td>2013-03-10 12:43:10</td>\n",
        "      <td> 1</td>\n",
        "      <td> honor</td>\n",
        "    </tr>\n",
        "  </tbody>\n",
        "</table>\n",
        "</div>"
       ],
       "metadata": {},
       "output_type": "pyout",
       "prompt_number": 16,
       "text": [
        "   id  user_id                            course_id             created  \\\n",
        "0   0        1        ValleyOfPeace/KungFu101/First 2013-03-01 09:22:11   \n",
        "1   0        2        ValleyOfPeace/KungFu101/First 2013-03-01 09:25:52   \n",
        "2   0        3        ValleyOfPeace/KungFu101/First 2013-03-05 08:15:52   \n",
        "3   0        1  ValleyOfPeace/AdvancedKungFu/Second 2013-03-05 03:10:02   \n",
        "4   0        4        ValleyOfPeace/KungFu101/First 2013-03-10 12:43:10   \n",
        "\n",
        "   is_active   mode  \n",
        "0          1  honor  \n",
        "1          0  honor  \n",
        "2          1  honor  \n",
        "3          1  honor  \n",
        "4          1  honor  "
       ]
      }
     ],
     "prompt_number": 16
    },
    {
     "cell_type": "markdown",
     "metadata": {
      "slideshow": {
       "slide_type": "slide"
      }
     },
     "source": [
      "## Filtering ##\n",
      "\n",
      "pandas lets you easily slice up your data to drill in on areas of interest."
     ]
    },
    {
     "cell_type": "code",
     "collapsed": false,
     "input": [
      "sce[ sce['course_id'] == 'ValleyOfPeace/AdvancedKungFu/Second' ]"
     ],
     "language": "python",
     "metadata": {
      "slideshow": {
       "slide_type": "fragment"
      }
     },
     "outputs": [
      {
       "html": [
        "<div style=\"max-height:1000px;max-width:1500px;overflow:auto;\">\n",
        "<table border=\"1\" class=\"dataframe\">\n",
        "  <thead>\n",
        "    <tr style=\"text-align: right;\">\n",
        "      <th></th>\n",
        "      <th>id</th>\n",
        "      <th>user_id</th>\n",
        "      <th>course_id</th>\n",
        "      <th>created</th>\n",
        "      <th>is_active</th>\n",
        "      <th>mode</th>\n",
        "    </tr>\n",
        "  </thead>\n",
        "  <tbody>\n",
        "    <tr>\n",
        "      <th>3</th>\n",
        "      <td> 0</td>\n",
        "      <td> 1</td>\n",
        "      <td> ValleyOfPeace/AdvancedKungFu/Second</td>\n",
        "      <td>2013-03-05 03:10:02</td>\n",
        "      <td> 1</td>\n",
        "      <td> honor</td>\n",
        "    </tr>\n",
        "  </tbody>\n",
        "</table>\n",
        "</div>"
       ],
       "metadata": {},
       "output_type": "pyout",
       "prompt_number": 17,
       "text": [
        "   id  user_id                            course_id             created  \\\n",
        "3   0        1  ValleyOfPeace/AdvancedKungFu/Second 2013-03-05 03:10:02   \n",
        "\n",
        "   is_active   mode  \n",
        "3          1  honor  "
       ]
      }
     ],
     "prompt_number": 17
    },
    {
     "cell_type": "code",
     "collapsed": false,
     "input": [
      "sce[ sce['course_id'] == 'ValleyOfPeace/KungFu101/First' ]"
     ],
     "language": "python",
     "metadata": {
      "slideshow": {
       "slide_type": "subslide"
      }
     },
     "outputs": [
      {
       "html": [
        "<div style=\"max-height:1000px;max-width:1500px;overflow:auto;\">\n",
        "<table border=\"1\" class=\"dataframe\">\n",
        "  <thead>\n",
        "    <tr style=\"text-align: right;\">\n",
        "      <th></th>\n",
        "      <th>id</th>\n",
        "      <th>user_id</th>\n",
        "      <th>course_id</th>\n",
        "      <th>created</th>\n",
        "      <th>is_active</th>\n",
        "      <th>mode</th>\n",
        "    </tr>\n",
        "  </thead>\n",
        "  <tbody>\n",
        "    <tr>\n",
        "      <th>0</th>\n",
        "      <td> 0</td>\n",
        "      <td> 1</td>\n",
        "      <td> ValleyOfPeace/KungFu101/First</td>\n",
        "      <td>2013-03-01 09:22:11</td>\n",
        "      <td> 1</td>\n",
        "      <td> honor</td>\n",
        "    </tr>\n",
        "    <tr>\n",
        "      <th>1</th>\n",
        "      <td> 0</td>\n",
        "      <td> 2</td>\n",
        "      <td> ValleyOfPeace/KungFu101/First</td>\n",
        "      <td>2013-03-01 09:25:52</td>\n",
        "      <td> 0</td>\n",
        "      <td> honor</td>\n",
        "    </tr>\n",
        "    <tr>\n",
        "      <th>2</th>\n",
        "      <td> 0</td>\n",
        "      <td> 3</td>\n",
        "      <td> ValleyOfPeace/KungFu101/First</td>\n",
        "      <td>2013-03-05 08:15:52</td>\n",
        "      <td> 1</td>\n",
        "      <td> honor</td>\n",
        "    </tr>\n",
        "    <tr>\n",
        "      <th>4</th>\n",
        "      <td> 0</td>\n",
        "      <td> 4</td>\n",
        "      <td> ValleyOfPeace/KungFu101/First</td>\n",
        "      <td>2013-03-10 12:43:10</td>\n",
        "      <td> 1</td>\n",
        "      <td> honor</td>\n",
        "    </tr>\n",
        "  </tbody>\n",
        "</table>\n",
        "</div>"
       ],
       "metadata": {},
       "output_type": "pyout",
       "prompt_number": 18,
       "text": [
        "   id  user_id                      course_id             created  is_active  \\\n",
        "0   0        1  ValleyOfPeace/KungFu101/First 2013-03-01 09:22:11          1   \n",
        "1   0        2  ValleyOfPeace/KungFu101/First 2013-03-01 09:25:52          0   \n",
        "2   0        3  ValleyOfPeace/KungFu101/First 2013-03-05 08:15:52          1   \n",
        "4   0        4  ValleyOfPeace/KungFu101/First 2013-03-10 12:43:10          1   \n",
        "\n",
        "    mode  \n",
        "0  honor  \n",
        "1  honor  \n",
        "2  honor  \n",
        "4  honor  "
       ]
      }
     ],
     "prompt_number": 18
    },
    {
     "cell_type": "code",
     "collapsed": false,
     "input": [
      "sce[ sce['created'] > '20130302' ]"
     ],
     "language": "python",
     "metadata": {
      "slideshow": {
       "slide_type": "-"
      }
     },
     "outputs": [
      {
       "html": [
        "<div style=\"max-height:1000px;max-width:1500px;overflow:auto;\">\n",
        "<table border=\"1\" class=\"dataframe\">\n",
        "  <thead>\n",
        "    <tr style=\"text-align: right;\">\n",
        "      <th></th>\n",
        "      <th>id</th>\n",
        "      <th>user_id</th>\n",
        "      <th>course_id</th>\n",
        "      <th>created</th>\n",
        "      <th>is_active</th>\n",
        "      <th>mode</th>\n",
        "    </tr>\n",
        "  </thead>\n",
        "  <tbody>\n",
        "    <tr>\n",
        "      <th>2</th>\n",
        "      <td> 0</td>\n",
        "      <td> 3</td>\n",
        "      <td>       ValleyOfPeace/KungFu101/First</td>\n",
        "      <td>2013-03-05 08:15:52</td>\n",
        "      <td> 1</td>\n",
        "      <td> honor</td>\n",
        "    </tr>\n",
        "    <tr>\n",
        "      <th>3</th>\n",
        "      <td> 0</td>\n",
        "      <td> 1</td>\n",
        "      <td> ValleyOfPeace/AdvancedKungFu/Second</td>\n",
        "      <td>2013-03-05 03:10:02</td>\n",
        "      <td> 1</td>\n",
        "      <td> honor</td>\n",
        "    </tr>\n",
        "    <tr>\n",
        "      <th>4</th>\n",
        "      <td> 0</td>\n",
        "      <td> 4</td>\n",
        "      <td>       ValleyOfPeace/KungFu101/First</td>\n",
        "      <td>2013-03-10 12:43:10</td>\n",
        "      <td> 1</td>\n",
        "      <td> honor</td>\n",
        "    </tr>\n",
        "  </tbody>\n",
        "</table>\n",
        "</div>"
       ],
       "metadata": {},
       "output_type": "pyout",
       "prompt_number": 19,
       "text": [
        "   id  user_id                            course_id             created  \\\n",
        "2   0        3        ValleyOfPeace/KungFu101/First 2013-03-05 08:15:52   \n",
        "3   0        1  ValleyOfPeace/AdvancedKungFu/Second 2013-03-05 03:10:02   \n",
        "4   0        4        ValleyOfPeace/KungFu101/First 2013-03-10 12:43:10   \n",
        "\n",
        "   is_active   mode  \n",
        "2          1  honor  \n",
        "3          1  honor  \n",
        "4          1  honor  "
       ]
      }
     ],
     "prompt_number": 19
    },
    {
     "cell_type": "markdown",
     "metadata": {
      "slideshow": {
       "slide_type": "slide"
      }
     },
     "source": [
      "## Joining ##\n",
      "\n",
      "You can perform common joins like inner joins and left outer joins."
     ]
    },
    {
     "cell_type": "code",
     "collapsed": false,
     "input": [
      "users = pandas.read_csv('fake_user_names.csv', header=None, names=['user_id', 'full_name'])\n",
      "users.info()"
     ],
     "language": "python",
     "metadata": {
      "slideshow": {
       "slide_type": "fragment"
      }
     },
     "outputs": [
      {
       "output_type": "stream",
       "stream": "stdout",
       "text": [
        "<class 'pandas.core.frame.DataFrame'>\n",
        "Int64Index: 3 entries, 0 to 2\n",
        "Data columns (total 2 columns):\n",
        "user_id      3 non-null int64\n",
        "full_name    3 non-null object\n",
        "dtypes: int64(1), object(1)"
       ]
      }
     ],
     "prompt_number": 20
    },
    {
     "cell_type": "code",
     "collapsed": false,
     "input": [
      "pandas.merge(sce, users, on='user_id', how='left')"
     ],
     "language": "python",
     "metadata": {
      "slideshow": {
       "slide_type": "fragment"
      }
     },
     "outputs": [
      {
       "html": [
        "<div style=\"max-height:1000px;max-width:1500px;overflow:auto;\">\n",
        "<table border=\"1\" class=\"dataframe\">\n",
        "  <thead>\n",
        "    <tr style=\"text-align: right;\">\n",
        "      <th></th>\n",
        "      <th>id</th>\n",
        "      <th>user_id</th>\n",
        "      <th>course_id</th>\n",
        "      <th>created</th>\n",
        "      <th>is_active</th>\n",
        "      <th>mode</th>\n",
        "      <th>full_name</th>\n",
        "    </tr>\n",
        "  </thead>\n",
        "  <tbody>\n",
        "    <tr>\n",
        "      <th>0</th>\n",
        "      <td> 0</td>\n",
        "      <td> 1</td>\n",
        "      <td>       ValleyOfPeace/KungFu101/First</td>\n",
        "      <td>2013-03-01 09:22:11</td>\n",
        "      <td> 1</td>\n",
        "      <td> honor</td>\n",
        "      <td>           Po</td>\n",
        "    </tr>\n",
        "    <tr>\n",
        "      <th>1</th>\n",
        "      <td> 0</td>\n",
        "      <td> 1</td>\n",
        "      <td> ValleyOfPeace/AdvancedKungFu/Second</td>\n",
        "      <td>2013-03-05 03:10:02</td>\n",
        "      <td> 1</td>\n",
        "      <td> honor</td>\n",
        "      <td>           Po</td>\n",
        "    </tr>\n",
        "    <tr>\n",
        "      <th>2</th>\n",
        "      <td> 0</td>\n",
        "      <td> 2</td>\n",
        "      <td>       ValleyOfPeace/KungFu101/First</td>\n",
        "      <td>2013-03-01 09:25:52</td>\n",
        "      <td> 0</td>\n",
        "      <td> honor</td>\n",
        "      <td> Master Shifu</td>\n",
        "    </tr>\n",
        "    <tr>\n",
        "      <th>3</th>\n",
        "      <td> 0</td>\n",
        "      <td> 3</td>\n",
        "      <td>       ValleyOfPeace/KungFu101/First</td>\n",
        "      <td>2013-03-05 08:15:52</td>\n",
        "      <td> 1</td>\n",
        "      <td> honor</td>\n",
        "      <td>      Tigress</td>\n",
        "    </tr>\n",
        "    <tr>\n",
        "      <th>4</th>\n",
        "      <td> 0</td>\n",
        "      <td> 4</td>\n",
        "      <td>       ValleyOfPeace/KungFu101/First</td>\n",
        "      <td>2013-03-10 12:43:10</td>\n",
        "      <td> 1</td>\n",
        "      <td> honor</td>\n",
        "      <td>          NaN</td>\n",
        "    </tr>\n",
        "  </tbody>\n",
        "</table>\n",
        "</div>"
       ],
       "metadata": {},
       "output_type": "pyout",
       "prompt_number": 25,
       "text": [
        "   id  user_id                            course_id             created  \\\n",
        "0   0        1        ValleyOfPeace/KungFu101/First 2013-03-01 09:22:11   \n",
        "1   0        1  ValleyOfPeace/AdvancedKungFu/Second 2013-03-05 03:10:02   \n",
        "2   0        2        ValleyOfPeace/KungFu101/First 2013-03-01 09:25:52   \n",
        "3   0        3        ValleyOfPeace/KungFu101/First 2013-03-05 08:15:52   \n",
        "4   0        4        ValleyOfPeace/KungFu101/First 2013-03-10 12:43:10   \n",
        "\n",
        "   is_active   mode     full_name  \n",
        "0          1  honor            Po  \n",
        "1          1  honor            Po  \n",
        "2          0  honor  Master Shifu  \n",
        "3          1  honor       Tigress  \n",
        "4          1  honor           NaN  "
       ]
      }
     ],
     "prompt_number": 25
    },
    {
     "cell_type": "markdown",
     "metadata": {
      "slideshow": {
       "slide_type": "slide"
      }
     },
     "source": [
      "## Indexing ##\n",
      "\n",
      "pandas contains a fairly sophisticated indexing system."
     ]
    },
    {
     "cell_type": "markdown",
     "metadata": {
      "slideshow": {
       "slide_type": "fragment"
      }
     },
     "source": [
      "Let's take a look at a quick example of the type of thing you can do."
     ]
    },
    {
     "cell_type": "code",
     "collapsed": false,
     "input": [
      "sce_idx = sce.set_index('created')\n",
      "sce_idx.info()"
     ],
     "language": "python",
     "metadata": {
      "slideshow": {
       "slide_type": "fragment"
      }
     },
     "outputs": [
      {
       "output_type": "stream",
       "stream": "stdout",
       "text": [
        "<class 'pandas.core.frame.DataFrame'>\n",
        "DatetimeIndex: 5 entries, 2013-03-01 09:22:11 to 2013-03-10 12:43:10\n",
        "Data columns (total 5 columns):\n",
        "id           5 non-null int64\n",
        "user_id      5 non-null int64\n",
        "course_id    5 non-null object\n",
        "is_active    5 non-null int64\n",
        "mode         5 non-null object\n",
        "dtypes: int64(3), object(2)"
       ]
      }
     ],
     "prompt_number": 22
    },
    {
     "cell_type": "markdown",
     "metadata": {
      "slideshow": {
       "slide_type": "fragment"
      }
     },
     "source": [
      "I wonder how many records are created each day?"
     ]
    },
    {
     "cell_type": "code",
     "collapsed": false,
     "input": [
      "records_per_day = sce_idx['id'].resample('D', how='count')\n",
      "records_per_day.head()"
     ],
     "language": "python",
     "metadata": {
      "slideshow": {
       "slide_type": "fragment"
      }
     },
     "outputs": [
      {
       "metadata": {},
       "output_type": "pyout",
       "prompt_number": 23,
       "text": [
        "created\n",
        "2013-03-01    2\n",
        "2013-03-02    0\n",
        "2013-03-03    0\n",
        "2013-03-04    0\n",
        "2013-03-05    2\n",
        "Freq: D, Name: id, dtype: int64"
       ]
      }
     ],
     "prompt_number": 23
    },
    {
     "cell_type": "markdown",
     "metadata": {
      "slideshow": {
       "slide_type": "slide"
      }
     },
     "source": [
      "## Plotting ##"
     ]
    },
    {
     "cell_type": "code",
     "collapsed": false,
     "input": [
      "records_per_day.plot()"
     ],
     "language": "python",
     "metadata": {
      "slideshow": {
       "slide_type": "fragment"
      }
     },
     "outputs": [
      {
       "metadata": {},
       "output_type": "pyout",
       "prompt_number": 24,
       "text": [
        "<matplotlib.axes._subplots.AxesSubplot at 0x4100990>"
       ]
      },
      {
       "metadata": {},
       "output_type": "display_data",
       "png": "[encoded data removed]",
       "text": [
        "<matplotlib.figure.Figure at 0x411d5d0>"
       ]
      }
     ],
     "prompt_number": 24
    }
   ],
   "metadata": {}
  }
 ]
}